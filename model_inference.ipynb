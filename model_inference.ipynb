{
 "cells": [
  {
   "cell_type": "markdown",
   "metadata": {},
   "source": [
    "# **I. Perkenalan**\n",
    "\n",
    "***\n",
    "Graded Challenge 6 - Clustering\n",
    "\n",
    "Nama  : Catherine Kezia Wijaya\n",
    "Batch : RMT-037\n",
    "\n",
    "File ipynb ini berisi pengecekan performa prediksi model clustering K-Means yang sudah dibuat di file P1G6_Set_1_catherine_kezia, pada data baru\n",
    "***"
   ]
  },
  {
   "cell_type": "markdown",
   "metadata": {},
   "source": [
    "# **I. Import Libraries**"
   ]
  },
  {
   "cell_type": "code",
   "execution_count": 1,
   "metadata": {},
   "outputs": [],
   "source": [
    "# Import Libraries\n",
    "import json\n",
    "import pickle\n",
    "import pandas as pd"
   ]
  },
  {
   "cell_type": "markdown",
   "metadata": {},
   "source": [
    "# **II. Model Loading**"
   ]
  },
  {
   "cell_type": "code",
   "execution_count": 2,
   "metadata": {},
   "outputs": [],
   "source": [
    "# Load list of numerical columns\n",
    "with open('list_num_cols.txt', 'r') as file_1:\n",
    "    num_cols = json.load(file_1)\n",
    "# Load scaler\n",
    "with open('scaler.pkl', 'rb') as file_2:\n",
    "    scaler = pickle.load(file_2)\n",
    "# Load PCA\n",
    "with open('pca.pkl', 'rb') as file_3:\n",
    "    pca = pickle.load(file_3)\n",
    "# Load KMeans model\n",
    "with open('kmeans.pkl', 'rb') as file_4:\n",
    "    km = pickle.load(file_4)"
   ]
  },
  {
   "cell_type": "markdown",
   "metadata": {},
   "source": [
    "# **III. Data Inference**"
   ]
  },
  {
   "cell_type": "code",
   "execution_count": 3,
   "metadata": {},
   "outputs": [
    {
     "data": {
      "text/html": [
       "<div>\n",
       "<style scoped>\n",
       "    .dataframe tbody tr th:only-of-type {\n",
       "        vertical-align: middle;\n",
       "    }\n",
       "\n",
       "    .dataframe tbody tr th {\n",
       "        vertical-align: top;\n",
       "    }\n",
       "\n",
       "    .dataframe thead th {\n",
       "        text-align: right;\n",
       "    }\n",
       "</style>\n",
       "<table border=\"1\" class=\"dataframe\">\n",
       "  <thead>\n",
       "    <tr style=\"text-align: right;\">\n",
       "      <th></th>\n",
       "      <th>CUST_ID</th>\n",
       "      <th>BALANCE</th>\n",
       "      <th>BALANCE_FREQUENCY</th>\n",
       "      <th>PURCHASES</th>\n",
       "      <th>ONEOFF_PURCHASES</th>\n",
       "      <th>INSTALLMENTS_PURCHASES</th>\n",
       "      <th>CASH_ADVANCE</th>\n",
       "      <th>PURCHASES_FREQUENCY</th>\n",
       "      <th>ONEOFF_PURCHASES_FREQUENCY</th>\n",
       "      <th>PURCHASES_INSTALLMENTS_FREQUENCY</th>\n",
       "      <th>CASH_ADVANCE_FREQUENCY</th>\n",
       "      <th>CASH_ADVANCE_TRX</th>\n",
       "      <th>PURCHASES_TRX</th>\n",
       "      <th>CREDIT_LIMIT</th>\n",
       "      <th>PAYMENTS</th>\n",
       "      <th>MINIMUM_PAYMENTS</th>\n",
       "      <th>PRC_FULL_PAYMENT</th>\n",
       "      <th>TENURE</th>\n",
       "    </tr>\n",
       "  </thead>\n",
       "  <tbody>\n",
       "    <tr>\n",
       "      <th>0</th>\n",
       "      <td>2500</td>\n",
       "      <td>15000</td>\n",
       "      <td>0.5</td>\n",
       "      <td>300</td>\n",
       "      <td>600</td>\n",
       "      <td>500</td>\n",
       "      <td>800</td>\n",
       "      <td>0.7</td>\n",
       "      <td>0.5</td>\n",
       "      <td>0.6</td>\n",
       "      <td>0.5</td>\n",
       "      <td>300</td>\n",
       "      <td>100</td>\n",
       "      <td>20000</td>\n",
       "      <td>1500</td>\n",
       "      <td>500</td>\n",
       "      <td>0.4</td>\n",
       "      <td>12</td>\n",
       "    </tr>\n",
       "  </tbody>\n",
       "</table>\n",
       "</div>"
      ],
      "text/plain": [
       "   CUST_ID  BALANCE  BALANCE_FREQUENCY  PURCHASES  ONEOFF_PURCHASES  \\\n",
       "0     2500    15000                0.5        300               600   \n",
       "\n",
       "   INSTALLMENTS_PURCHASES  CASH_ADVANCE  PURCHASES_FREQUENCY  \\\n",
       "0                     500           800                  0.7   \n",
       "\n",
       "   ONEOFF_PURCHASES_FREQUENCY  PURCHASES_INSTALLMENTS_FREQUENCY  \\\n",
       "0                         0.5                               0.6   \n",
       "\n",
       "   CASH_ADVANCE_FREQUENCY  CASH_ADVANCE_TRX  PURCHASES_TRX  CREDIT_LIMIT  \\\n",
       "0                     0.5               300            100         20000   \n",
       "\n",
       "   PAYMENTS  MINIMUM_PAYMENTS  PRC_FULL_PAYMENT  TENURE  \n",
       "0      1500               500               0.4      12  "
      ]
     },
     "execution_count": 3,
     "metadata": {},
     "output_type": "execute_result"
    }
   ],
   "source": [
    "data_inf = {\n",
    "    'CUST_ID': 2500,\n",
    "    'BALANCE': 15000,\n",
    "    'BALANCE_FREQUENCY': 0.5,\n",
    "    'PURCHASES': 300,\n",
    "    'ONEOFF_PURCHASES': 600,\n",
    "    'INSTALLMENTS_PURCHASES': 500,\n",
    "    'CASH_ADVANCE': 800,\n",
    "    'PURCHASES_FREQUENCY': 0.7,\n",
    "    'ONEOFF_PURCHASES_FREQUENCY': 0.5,\n",
    "    'PURCHASES_INSTALLMENTS_FREQUENCY': 0.6,\n",
    "    'CASH_ADVANCE_FREQUENCY': 0.5,\n",
    "    'CASH_ADVANCE_TRX': 300,\n",
    "    'PURCHASES_TRX': 100,\n",
    "    'CREDIT_LIMIT': 20000,\n",
    "    'PAYMENTS': 1500,\n",
    "    'MINIMUM_PAYMENTS': 500,\n",
    "    'PRC_FULL_PAYMENT': 0.4,\n",
    "    'TENURE': 12\n",
    "}\n",
    "\n",
    "# Membuat DataFrame inference\n",
    "data_inf = pd.DataFrame([data_inf])\n",
    "data_inf"
   ]
  },
  {
   "cell_type": "code",
   "execution_count": 4,
   "metadata": {},
   "outputs": [],
   "source": [
    "def predict(data):\n",
    "    \"\"\"\n",
    "    Fungsi untuk mempreproses data yang masuk supaya sesuai dengan kebutuhan model,\n",
    "    dan diprediksi pengelompokkanya oleh model K-Means yang telah dibuat\n",
    "    \"\"\"\n",
    "    # Ambil kolom yang dibutuhkan model\n",
    "    data_num = data[num_cols].copy()\n",
    "    # isi Nan dengan 0\n",
    "    data_num = data_num.fillna(0)\n",
    "    # Scaler MinMax\n",
    "    data_scaled = scaler.transform(data_num)\n",
    "    # Apply PCA\n",
    "    data_pca = pca.transform(data_scaled)\n",
    "    # Predict\n",
    "    cluster_prediction = km.predict(data_pca)[0]\n",
    "    label = \"\"\n",
    "    #Pemberian label\n",
    "    if cluster_prediction == 4:\n",
    "        label = \"Saldo Rendah dan Pembelian Sedang\"\n",
    "    elif cluster_prediction == 3:\n",
    "        label = \"Pembelian Rendah dan Kapasitas Kredit Cukup\"\n",
    "    elif cluster_prediction == 2:\n",
    "        label = \"Kurang Aktif dengan Pembelian dan Saldo Rendah\"\n",
    "    elif cluster_prediction == 1:\n",
    "        label = \"Aktif dengan Pembelian dan Pembayaran Penuh\"\n",
    "    else:\n",
    "        label = \"Kapasitas Kredit Tinggi dan Penggunaan Uang Tunai\"\n",
    "    \n",
    "    return cluster_prediction, label"
   ]
  },
  {
   "cell_type": "code",
   "execution_count": 7,
   "metadata": {},
   "outputs": [
    {
     "name": "stdout",
     "output_type": "stream",
     "text": [
      "cluster: 0\n",
      "Prediksi: Kapasitas Kredit Tinggi dan Penggunaan Uang Tunai\n"
     ]
    }
   ],
   "source": [
    "# Predict:\n",
    "cluster, result = predict(data_inf)\n",
    "print(f\"cluster: {cluster}\")\n",
    "print(f'Prediksi: {result}')"
   ]
  }
 ],
 "metadata": {
  "kernelspec": {
   "display_name": "base",
   "language": "python",
   "name": "python3"
  },
  "language_info": {
   "codemirror_mode": {
    "name": "ipython",
    "version": 3
   },
   "file_extension": ".py",
   "mimetype": "text/x-python",
   "name": "python",
   "nbconvert_exporter": "python",
   "pygments_lexer": "ipython3",
   "version": "3.12.4"
  }
 },
 "nbformat": 4,
 "nbformat_minor": 2
}
